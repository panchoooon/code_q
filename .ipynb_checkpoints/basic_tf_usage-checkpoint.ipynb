{
 "cells": [
  {
   "cell_type": "markdown",
   "metadata": {},
   "source": [
    "# tensorflowの流れ\n",
    "    1.データを用意する\n",
    "    2.データをtensorflowが扱える形に変換する&正規化を行う\n",
    "    3.データをトレーニング・テスト・検証用に分割する\n",
    "    4.モデルのパラメータ、ハイパーパラメータを設定\n",
    "    5.変数(Variable)、プレースホルダ(計算グラフへ渡すデータの位置を保持)を初期化\n",
    "    6.計算グラフを作成することでモデルを定義\n",
    "    7.損失関数を設定\n",
    "    8.モデルの初期化・トレーニング\n",
    "    9.モデルを評価\n",
    "    10. 評価結果を見てハイパーパラメータを改めて設定する\n",
    "    11. 未知データへの対応可能性確認\n",
    "### 今回はsoftmax回帰を用いた分類を行う\n",
    "\n",
    "    参考. https://www.tensorflow.org/versions/r1.0/get_started/mnist/beginners"
   ]
  },
  {
   "cell_type": "code",
   "execution_count": 1,
   "metadata": {},
   "outputs": [
    {
     "name": "stderr",
     "output_type": "stream",
     "text": [
      "Using TensorFlow backend.\n"
     ]
    }
   ],
   "source": [
    "import numpy as np\n",
    "import tensorflow as tf\n",
    "import keras\n",
    "import matplotlib.pyplot as plt\n",
    "import sklearn\n",
    "import pandas as pd\n",
    "import os"
   ]
  },
  {
   "cell_type": "code",
   "execution_count": 2,
   "metadata": {},
   "outputs": [
    {
     "ename": "AttributeError",
     "evalue": "'module' object has no attribute 'global_variables_initializer'",
     "output_type": "error",
     "traceback": [
      "\u001b[0;31m---------------------------------------------------------------------------\u001b[0m",
      "\u001b[0;31mAttributeError\u001b[0m                            Traceback (most recent call last)",
      "\u001b[0;32m<ipython-input-2-33c9476b02fe>\u001b[0m in \u001b[0;36m<module>\u001b[0;34m()\u001b[0m\n\u001b[1;32m      2\u001b[0m \u001b[0mmy_var\u001b[0m \u001b[0;34m=\u001b[0m \u001b[0mtf\u001b[0m\u001b[0;34m.\u001b[0m\u001b[0mVariable\u001b[0m\u001b[0;34m(\u001b[0m\u001b[0mtf\u001b[0m\u001b[0;34m.\u001b[0m\u001b[0mzeros\u001b[0m\u001b[0;34m(\u001b[0m\u001b[0;34m[\u001b[0m\u001b[0;36m2\u001b[0m\u001b[0;34m,\u001b[0m\u001b[0;36m3\u001b[0m\u001b[0;34m]\u001b[0m\u001b[0;34m)\u001b[0m\u001b[0;34m)\u001b[0m\u001b[0;34m\u001b[0m\u001b[0m\n\u001b[1;32m      3\u001b[0m \u001b[0msess\u001b[0m \u001b[0;34m=\u001b[0m \u001b[0mtf\u001b[0m\u001b[0;34m.\u001b[0m\u001b[0mSession\u001b[0m\u001b[0;34m(\u001b[0m\u001b[0;34m)\u001b[0m\u001b[0;34m\u001b[0m\u001b[0m\n\u001b[0;32m----> 4\u001b[0;31m \u001b[0minitialize_op\u001b[0m \u001b[0;34m=\u001b[0m \u001b[0mtf\u001b[0m\u001b[0;34m.\u001b[0m\u001b[0mglobal_variables_initializer\u001b[0m\u001b[0;34m(\u001b[0m\u001b[0;34m)\u001b[0m\u001b[0;34m\u001b[0m\u001b[0m\n\u001b[0m\u001b[1;32m      5\u001b[0m \u001b[0msess\u001b[0m\u001b[0;34m.\u001b[0m\u001b[0mrun\u001b[0m\u001b[0;34m(\u001b[0m\u001b[0minitialize_op\u001b[0m\u001b[0;34m)\u001b[0m\u001b[0;34m\u001b[0m\u001b[0m\n",
      "\u001b[0;31mAttributeError\u001b[0m: 'module' object has no attribute 'global_variables_initializer'"
     ]
    }
   ],
   "source": [
    "#変数作成\n",
    "my_var = tf.Variable(tf.zeros([2,3]))\n",
    "sess = tf.Session()\n",
    "initialize_op = tf.global_variables_initializer()\n",
    "sess.run(initialize_op)"
   ]
  },
  {
   "cell_type": "code",
   "execution_count": 3,
   "metadata": {},
   "outputs": [
    {
     "data": {
      "text/plain": [
       "array([[ 0.5998013 ,  0.24597237],\n",
       "       [ 0.44123083,  0.46361467]], dtype=float32)"
      ]
     },
     "execution_count": 3,
     "metadata": {},
     "output_type": "execute_result"
    }
   ],
   "source": [
    "#プレースホルダ作成\n",
    "sess = tf.Session()\n",
    "x = tf.placeholder(tf.float32, shape=[2,2])\n",
    "y = tf.identity(x)\n",
    "x_vals = np.random.rand(2,2)\n",
    "sess.run(y, feed_dict={x: x_vals})"
   ]
  },
  {
   "cell_type": "code",
   "execution_count": 4,
   "metadata": {},
   "outputs": [
    {
     "ename": "AttributeError",
     "evalue": "'module' object has no attribute 'global_variables_initializer'",
     "output_type": "error",
     "traceback": [
      "\u001b[0;31m---------------------------------------------------------------------------\u001b[0m",
      "\u001b[0;31mAttributeError\u001b[0m                            Traceback (most recent call last)",
      "\u001b[0;32m<ipython-input-4-87d84baf881a>\u001b[0m in \u001b[0;36m<module>\u001b[0;34m()\u001b[0m\n\u001b[1;32m      1\u001b[0m \u001b[0;31m#変数初期化\u001b[0m\u001b[0;34m\u001b[0m\u001b[0;34m\u001b[0m\u001b[0m\n\u001b[1;32m      2\u001b[0m \u001b[0;31m#手法1\u001b[0m\u001b[0;34m\u001b[0m\u001b[0;34m\u001b[0m\u001b[0m\n\u001b[0;32m----> 3\u001b[0;31m \u001b[0minitializer_op\u001b[0m \u001b[0;34m=\u001b[0m \u001b[0mtf\u001b[0m\u001b[0;34m.\u001b[0m\u001b[0mglobal_variables_initializer\u001b[0m\u001b[0;34m(\u001b[0m\u001b[0;34m)\u001b[0m\u001b[0;34m\u001b[0m\u001b[0m\n\u001b[0m\u001b[1;32m      4\u001b[0m \u001b[0;34m\u001b[0m\u001b[0m\n\u001b[1;32m      5\u001b[0m \u001b[0;31m#手法2\u001b[0m\u001b[0;34m\u001b[0m\u001b[0;34m\u001b[0m\u001b[0m\n",
      "\u001b[0;31mAttributeError\u001b[0m: 'module' object has no attribute 'global_variables_initializer'"
     ]
    }
   ],
   "source": [
    "#変数初期化\n",
    "#手法1\n",
    "initializer_op = tf.global_variables_initializer()\n",
    "\n",
    "#手法2\n",
    "sess = tf.Session()\n",
    "first_var = tf.Variable(tf.zeros([4,5]))\n",
    "sess.run(first_var.initializer)\n",
    "second_var = tf.Variable(tf.zeros_like(first_var))\n",
    "\n",
    "sess.run(second_var.initializer)"
   ]
  },
  {
   "cell_type": "code",
   "execution_count": 5,
   "metadata": {},
   "outputs": [
    {
     "name": "stdout",
     "output_type": "stream",
     "text": [
      "id_matrix \n",
      " [[ 1.  0.  0.]\n",
      " [ 0.  1.  0.]\n",
      " [ 0.  0.  1.]]\n",
      "A \n",
      " [[ 0.44012669  1.51095176  0.74445224]\n",
      " [-0.22571513 -1.00296044  1.49236465]\n",
      " [-0.41965008  1.45905948  1.27701747]]\n",
      "B \n",
      " [[7 7 7 7]\n",
      " [7 7 7 7]\n",
      " [7 7 7 7]]\n",
      "C \n",
      " [[ 0.53678656  0.1648252   0.19465232]\n",
      " [ 0.38127935  0.8849591   0.06474745]\n",
      " [ 0.19358265  0.63526642  0.31458998]]\n",
      "D \n",
      " [[1 2 3]\n",
      " [4 5 6]\n",
      " [7 8 9]]\n",
      "A+C =\n",
      " [[-0.2055881   0.34932095  0.40965387]\n",
      " [ 1.40328979  0.7145592  -1.15676486]\n",
      " [ 1.29680347  0.61353827 -0.76599604]]\n",
      "C-A =\n",
      " [[ 0.40344158  0.3107875   0.4995071 ]\n",
      " [ 0.59886944 -0.69000578 -0.90810239]\n",
      " [ 0.57351416  0.91011071  0.73909205]]\n",
      "D^t [[1 4 7]\n",
      " [2 5 8]\n",
      " [3 6 9]]\n",
      "Cの行列式 \n",
      " 0.00181189\n",
      "C inv \n",
      " [[  9.41201973  -3.26772022  -6.77319098]\n",
      " [  2.09377527   0.8505801   -2.72199011]\n",
      " [-12.52228737   3.73635149  11.00261497]]\n",
      "id_matrix コレスキー \n",
      " [[ 1.  0.  0.]\n",
      " [ 0.  1.  0.]\n",
      " [ 0.  0.  1.]]\n"
     ]
    }
   ],
   "source": [
    "#行列操作\n",
    "id_matrix = tf.diag([1.0,1.0,1.0])\n",
    "print(\"id_matrix \\n\", sess.run(id_matrix))\n",
    "\n",
    "A = tf.truncated_normal([3,3]) #正規分布\n",
    "B = tf.fill([3,4], 7) #指定した値のみの行列\n",
    "C = tf.random_uniform([3,3]) #一様分布\n",
    "D = tf.convert_to_tensor(np.array([[1,2,3],[4,5,6],[7,8,9]])) #入力した行列をテンソルに変換\n",
    "\n",
    "print(\"A \\n\", sess.run(A)) #ランダム値はsess.runする時に値が決まる\n",
    "print(\"B \\n\", sess.run(B))\n",
    "print(\"C \\n\", sess.run(C))\n",
    "print(\"D \\n\", sess.run(D))\n",
    "\n",
    "#加減\n",
    "print(\"A+C =\\n\", sess.run(A+C))\n",
    "print(\"C-A =\\n\",sess.run(C-A))\n",
    "\n",
    "#転置\n",
    "print(\"D^t\", sess.run(tf.transpose(D)))\n",
    "\n",
    "#行列式(要素が整数ではダメっぽい)\n",
    "print(\"Cの行列式 \\n\", sess.run(tf.matrix_determinant(C)))\n",
    "\n",
    "#逆行列(中身が少数である必要有)\n",
    "print(\"C inv \\n\",sess.run(tf.matrix_inverse(C)))\n",
    "\n",
    "#コレスキー分解(正定値対称行列である必要有)\n",
    "print(\"id_matrix コレスキー \\n\",sess.run(tf.cholesky(id_matrix))) #たぶん コレスキー分解, id_matrix = L L^t の Lが求まる\n",
    "\n",
    "#固有値、固有ベクトル\n",
    "#evalue, evector = sess.run(tf.self_adjoint_eig(C))\n",
    "#print(\"\\n Cの固有値 \\n\", evalue)\n",
    "#print(\"\\n Cの固有ベクトル\\n\", evector)"
   ]
  },
  {
   "cell_type": "markdown",
   "metadata": {},
   "source": [
    "## 1. データセットを作成(インポート)"
   ]
  },
  {
   "cell_type": "code",
   "execution_count": 6,
   "metadata": {},
   "outputs": [
    {
     "name": "stdout",
     "output_type": "stream",
     "text": [
      "elements in digits \n",
      " ['DESCR', 'data', 'images', 'target', 'target_names']\n",
      "\n",
      " digits.data \n",
      " (1797, 64)\n",
      "\n",
      "digits.images \n",
      " (1797, 8, 8)\n",
      "\n",
      "digits.target(label) \n",
      " (1797,)\n",
      "\n",
      "digits.target_names(kind of label) \n",
      " (10,)\n",
      "Successfully downloaded train-images-idx3-ubyte.gz 9912422 bytes.\n",
      "Extracting MNIST_data/train-images-idx3-ubyte.gz\n",
      "Successfully downloaded train-labels-idx1-ubyte.gz 28881 bytes.\n",
      "Extracting MNIST_data/train-labels-idx1-ubyte.gz\n",
      "Successfully downloaded t10k-images-idx3-ubyte.gz 1648877 bytes.\n",
      "Extracting MNIST_data/t10k-images-idx3-ubyte.gz\n",
      "Successfully downloaded t10k-labels-idx1-ubyte.gz 4542 bytes.\n",
      "Extracting MNIST_data/t10k-labels-idx1-ubyte.gz\n"
     ]
    }
   ],
   "source": [
    "from sklearn.datasets import load_digits\n",
    "digits = load_digits(n_class=10)\n",
    "print(\"elements in digits \\n\", dir(digits))\n",
    "\n",
    "data = digits.data\n",
    "print(\"\\n digits.data \\n\", data.shape)\n",
    "\n",
    "images = digits.images\n",
    "print(\"\\ndigits.images \\n\", images.shape)\n",
    "target = digits.target\n",
    "print(\"\\ndigits.target(label) \\n\", target.shape)\n",
    "target_names = digits.target_names\n",
    "print(\"\\ndigits.target_names(kind of label) \\n\", target_names.shape)\n",
    "\n",
    "\n",
    "#今回はこっちを使う\n",
    "from tensorflow.examples.tutorials.mnist import input_data\n",
    "mnist = input_data.read_data_sets(\"MNIST_data/\", one_hot=True)\n"
   ]
  },
  {
   "cell_type": "markdown",
   "metadata": {},
   "source": [
    "## 1.1\n",
    "### データセット\n",
    "### 28×28=784の画像サイズのデータ 55000枚\n",
    "\n",
    "### ラベル\n",
    "### ex. 正解が3なら [0,0,0,1,0,0,0,0,0,0]"
   ]
  },
  {
   "cell_type": "code",
   "execution_count": 7,
   "metadata": {},
   "outputs": [
    {
     "data": {
      "text/plain": [
       "(55000, 10)"
      ]
     },
     "execution_count": 7,
     "metadata": {},
     "output_type": "execute_result"
    }
   ],
   "source": [
    "mnist.train.labels.shape"
   ]
  },
  {
   "cell_type": "code",
   "execution_count": 8,
   "metadata": {},
   "outputs": [
    {
     "data": {
      "text/plain": [
       "(55000, 784)"
      ]
     },
     "execution_count": 8,
     "metadata": {},
     "output_type": "execute_result"
    }
   ],
   "source": [
    "mnist.train.images.shape"
   ]
  },
  {
   "cell_type": "code",
   "execution_count": 9,
   "metadata": {},
   "outputs": [
    {
     "data": {
      "text/plain": [
       "numpy.ndarray"
      ]
     },
     "execution_count": 9,
     "metadata": {},
     "output_type": "execute_result"
    }
   ],
   "source": [
    "type(mnist.train.images)"
   ]
  },
  {
   "cell_type": "code",
   "execution_count": 10,
   "metadata": {
    "collapsed": true
   },
   "outputs": [],
   "source": [
    "#画像データを入れる箱\n",
    "x = tf.placeholder(tf.float32, [None, 784])"
   ]
  },
  {
   "cell_type": "code",
   "execution_count": 11,
   "metadata": {
    "collapsed": true
   },
   "outputs": [],
   "source": [
    "#重みとバイアスを設定\n",
    "W = tf.Variable(tf.zeros([784,10]))\n",
    "b = tf.Variable(tf.zeros([10]))\n",
    "\n",
    "#0〜1に値を正規化\n",
    "y = tf.nn.softmax(tf.matmul(x,W) + b) #出力値\n",
    "\n",
    "#ネットワークで最小化すべき誤差関数としてクロスエントロピーを定義(正解データを用いる)\n",
    "y_ = tf.placeholder(tf.float32, [None, 10]) #正解データ\n",
    "cross_entropy = tf.reduce_mean(-tf.reduce_sum(y_ * tf.log(y), reduction_indices=[1]))\n"
   ]
  },
  {
   "cell_type": "code",
   "execution_count": 12,
   "metadata": {
    "collapsed": true
   },
   "outputs": [],
   "source": [
    "#学習方法定義　0.5は学習率\n",
    "train_step = tf.train.GradientDescentOptimizer(0.5).minimize(cross_entropy)"
   ]
  },
  {
   "cell_type": "code",
   "execution_count": 13,
   "metadata": {
    "collapsed": true
   },
   "outputs": [],
   "source": [
    "sess = tf.InteractiveSession()"
   ]
  },
  {
   "cell_type": "code",
   "execution_count": 14,
   "metadata": {
    "collapsed": true
   },
   "outputs": [],
   "source": [
    "tf.initialize_all_variables().run()"
   ]
  },
  {
   "cell_type": "code",
   "execution_count": 22,
   "metadata": {
    "collapsed": true
   },
   "outputs": [],
   "source": [
    "#学習\n",
    "for _ in range(1000):\n",
    "  batch_xs, batch_ys = mnist.train.next_batch(100)\n",
    "  sess.run(train_step, feed_dict={x: batch_xs, y_: batch_ys})"
   ]
  },
  {
   "cell_type": "markdown",
   "metadata": {},
   "source": [
    "## 3. モデル評価"
   ]
  },
  {
   "cell_type": "code",
   "execution_count": 23,
   "metadata": {
    "collapsed": true
   },
   "outputs": [],
   "source": [
    "correct_prediction = tf.equal(tf.argmax(y,1), tf.argmax(y_,1))"
   ]
  },
  {
   "cell_type": "code",
   "execution_count": 24,
   "metadata": {
    "collapsed": true
   },
   "outputs": [],
   "source": [
    "accuracy = tf.reduce_mean(tf.cast(correct_prediction, tf.float32))"
   ]
  },
  {
   "cell_type": "code",
   "execution_count": 25,
   "metadata": {},
   "outputs": [
    {
     "name": "stdout",
     "output_type": "stream",
     "text": [
      "0.9207\n"
     ]
    }
   ],
   "source": [
    "print(sess.run(accuracy, feed_dict={x: mnist.test.images, y_: mnist.test.labels}))"
   ]
  },
  {
   "cell_type": "markdown",
   "metadata": {},
   "source": [
    "# 4. 可視化"
   ]
  },
  {
   "cell_type": "code",
   "execution_count": 84,
   "metadata": {
    "collapsed": true
   },
   "outputs": [],
   "source": [
    "import tensorflow as tf\n",
    "\n",
    "# 定数で1 + 2\n",
    "x = tf.constant(1, name='x')\n",
    "y = tf.constant(2, name='y')\n",
    "z = x + y\n",
    "\n",
    "with tf.Session() as sess:\n",
    "    sess.run(tf.initialize_all_variables())\n",
    "    sess.run(z)\n",
    "    # SummaryWriterでグラフを書く\n",
    "    summary_writer = tf.train.SummaryWriter('data', graph=sess.graph)\n",
    "    tf.scalar_summary('one_plus_one_summary', z)\n"
   ]
  },
  {
   "cell_type": "code",
   "execution_count": 85,
   "metadata": {},
   "outputs": [
    {
     "ename": "AttributeError",
     "evalue": "'module' object has no attribute 'scalar'",
     "output_type": "error",
     "traceback": [
      "\u001b[0;31m---------------------------------------------------------------------------\u001b[0m",
      "\u001b[0;31mAttributeError\u001b[0m                            Traceback (most recent call last)",
      "\u001b[0;32m<ipython-input-85-8aa1a903b897>\u001b[0m in \u001b[0;36m<module>\u001b[0;34m()\u001b[0m\n\u001b[1;32m     16\u001b[0m \u001b[0;34m\u001b[0m\u001b[0m\n\u001b[1;32m     17\u001b[0m \u001b[0;31m# このコマンドでzをグラフ上に出力\u001b[0m\u001b[0;34m\u001b[0m\u001b[0;34m\u001b[0m\u001b[0m\n\u001b[0;32m---> 18\u001b[0;31m \u001b[0m_\u001b[0m \u001b[0;34m=\u001b[0m \u001b[0mtf\u001b[0m\u001b[0;34m.\u001b[0m\u001b[0msummary\u001b[0m\u001b[0;34m.\u001b[0m\u001b[0mscalar\u001b[0m\u001b[0;34m(\u001b[0m\u001b[0;34m'z'\u001b[0m\u001b[0;34m,\u001b[0m \u001b[0mz\u001b[0m\u001b[0;34m)\u001b[0m\u001b[0;34m\u001b[0m\u001b[0m\n\u001b[0m\u001b[1;32m     19\u001b[0m \u001b[0;34m\u001b[0m\u001b[0m\n\u001b[1;32m     20\u001b[0m \u001b[0;31m# SummaryWriterでグラフを書く(これより後のコマンドはグラフに出力されない)\u001b[0m\u001b[0;34m\u001b[0m\u001b[0;34m\u001b[0m\u001b[0m\n",
      "\u001b[0;31mAttributeError\u001b[0m: 'module' object has no attribute 'scalar'"
     ]
    }
   ],
   "source": [
    "import tensorflow as tf\n",
    "sess = tf.InteractiveSession()\n",
    "\n",
    "# TensorBoard情報出力ディレクトリ\n",
    "log_dir = '/tmp/tensorflow/mnist/logs/simple01'\n",
    "\n",
    "# 指定したディレクトリがあれば削除し、再作成\n",
    "if tf.gfile.Exists(log_dir):\n",
    "    tf.gfile.DeleteRecursively(log_dir)\n",
    "tf.gfile.MakeDirs(log_dir)\n",
    "\n",
    "# 定数で1 + 2\n",
    "x = tf.constant(1, name='x')\n",
    "y = tf.constant(2, name='y')\n",
    "z = x + y\n",
    "\n",
    "# このコマンドでzをグラフ上に出力\n",
    "_ = tf.summary.scalar('z', z)\n",
    "\n",
    "# SummaryWriterでグラフを書く(これより後のコマンドはグラフに出力されない)\n",
    "summary_writer = tf.summary.FileWriter(log_dir , sess.graph)\n",
    "\n",
    "# 実行\n",
    "print(sess.run(z))\n",
    "\n",
    "# SummaryWriterクローズ\n",
    "summary_writer.close()"
   ]
  },
  {
   "cell_type": "code",
   "execution_count": 87,
   "metadata": {},
   "outputs": [
    {
     "name": "stdout",
     "output_type": "stream",
     "text": [
      "START\n",
      "Do something...\n",
      "END\n"
     ]
    }
   ],
   "source": [
    "class MySampleClass:\n",
    " \n",
    "  def __enter__(self):\n",
    "      print('START')\n",
    "      return self\n",
    "  \n",
    "  def myfunc(self):\n",
    "      print('Do something...')\n",
    "  \n",
    "  def __exit__(self, exception_type, exception_value, traceback):\n",
    "    print('END')\n",
    " \n",
    "with MySampleClass() as c:\n",
    "  c.myfunc()    "
   ]
  },
  {
   "cell_type": "code",
   "execution_count": null,
   "metadata": {
    "collapsed": true
   },
   "outputs": [],
   "source": []
  }
 ],
 "metadata": {
  "kernelspec": {
   "display_name": "py34",
   "language": "python",
   "name": "py34"
  },
  "language_info": {
   "codemirror_mode": {
    "name": "ipython",
    "version": 3
   },
   "file_extension": ".py",
   "mimetype": "text/x-python",
   "name": "python",
   "nbconvert_exporter": "python",
   "pygments_lexer": "ipython3",
   "version": "3.4.5"
  }
 },
 "nbformat": 4,
 "nbformat_minor": 2
}

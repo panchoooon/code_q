{
 "cells": [
  {
   "cell_type": "markdown",
   "metadata": {},
   "source": [
    "# tensorflowの流れ\n",
    "    1.データを用意する\n",
    "    2.データをtensorflowが扱える形に変換する&正規化を行う\n",
    "    3.データをトレーニング・テスト・検証用に分割する\n",
    "    4.モデルのパラメータ、ハイパーパラメータを設定\n",
    "    5.変数(Variable)、プレースホルダ(計算グラフへ渡すデータの位置を保持)を初期化\n",
    "    6.計算グラフを作成することでモデルを定義\n",
    "    7.損失関数を設定\n",
    "    8.モデルの初期化・トレーニング\n",
    "    9.モデルを評価\n",
    "    10. 評価結果を見てハイパーパラメータを改めて設定する\n",
    "    11. 未知データへの対応可能性確認\n",
    "### 今回はsoftmax回帰を用いた分類を行う\n",
    "\n",
    "    参考. https://www.tensorflow.org/versions/r1.0/get_started/mnist/beginners"
   ]
  },
  {
   "cell_type": "code",
   "execution_count": 3,
   "metadata": {},
   "outputs": [],
   "source": [
    "import numpy as np\n",
    "import tensorflow as tf\n",
    "import keras\n",
    "import matplotlib.pyplot as plt\n",
    "import sklearn\n",
    "import pandas as pd\n",
    "import os"
   ]
  },
  {
   "cell_type": "code",
   "execution_count": 4,
   "metadata": {},
   "outputs": [
    {
     "ename": "AttributeError",
     "evalue": "'module' object has no attribute 'global_variables_initializer'",
     "output_type": "error",
     "traceback": [
      "\u001b[0;31m---------------------------------------------------------------------------\u001b[0m",
      "\u001b[0;31mAttributeError\u001b[0m                            Traceback (most recent call last)",
      "\u001b[0;32m<ipython-input-4-33c9476b02fe>\u001b[0m in \u001b[0;36m<module>\u001b[0;34m()\u001b[0m\n\u001b[1;32m      2\u001b[0m \u001b[0mmy_var\u001b[0m \u001b[0;34m=\u001b[0m \u001b[0mtf\u001b[0m\u001b[0;34m.\u001b[0m\u001b[0mVariable\u001b[0m\u001b[0;34m(\u001b[0m\u001b[0mtf\u001b[0m\u001b[0;34m.\u001b[0m\u001b[0mzeros\u001b[0m\u001b[0;34m(\u001b[0m\u001b[0;34m[\u001b[0m\u001b[0;36m2\u001b[0m\u001b[0;34m,\u001b[0m\u001b[0;36m3\u001b[0m\u001b[0;34m]\u001b[0m\u001b[0;34m)\u001b[0m\u001b[0;34m)\u001b[0m\u001b[0;34m\u001b[0m\u001b[0m\n\u001b[1;32m      3\u001b[0m \u001b[0msess\u001b[0m \u001b[0;34m=\u001b[0m \u001b[0mtf\u001b[0m\u001b[0;34m.\u001b[0m\u001b[0mSession\u001b[0m\u001b[0;34m(\u001b[0m\u001b[0;34m)\u001b[0m\u001b[0;34m\u001b[0m\u001b[0m\n\u001b[0;32m----> 4\u001b[0;31m \u001b[0minitialize_op\u001b[0m \u001b[0;34m=\u001b[0m \u001b[0mtf\u001b[0m\u001b[0;34m.\u001b[0m\u001b[0mglobal_variables_initializer\u001b[0m\u001b[0;34m(\u001b[0m\u001b[0;34m)\u001b[0m\u001b[0;34m\u001b[0m\u001b[0m\n\u001b[0m\u001b[1;32m      5\u001b[0m \u001b[0msess\u001b[0m\u001b[0;34m.\u001b[0m\u001b[0mrun\u001b[0m\u001b[0;34m(\u001b[0m\u001b[0minitialize_op\u001b[0m\u001b[0;34m)\u001b[0m\u001b[0;34m\u001b[0m\u001b[0m\n",
      "\u001b[0;31mAttributeError\u001b[0m: 'module' object has no attribute 'global_variables_initializer'"
     ]
    }
   ],
   "source": [
    "#変数作成\n",
    "my_var = tf.Variable(tf.zeros([2,3]))\n",
    "sess = tf.Session()\n",
    "initialize_op = tf.global_variables_initializer()\n",
    "sess.run(initialize_op)"
   ]
  },
  {
   "cell_type": "code",
   "execution_count": 24,
   "metadata": {},
   "outputs": [
    {
     "data": {
      "text/plain": [
       "array([[ 0.52702433,  0.99081177],\n",
       "       [ 0.35060424,  0.27304938]], dtype=float32)"
      ]
     },
     "execution_count": 24,
     "metadata": {},
     "output_type": "execute_result"
    }
   ],
   "source": [
    "#プレースホルダ作成\n",
    "sess = tf.Session()\n",
    "#x = tf.placeholder(tf.float32, shape=[2,2])\n",
    "x = tf.placeholder(\"float32\", [2,2])\n",
    "y = tf.identity(x)\n",
    "x_vals = np.random.rand(2,2)\n",
    "sess.run(y, feed_dict={x: x_vals})"
   ]
  },
  {
   "cell_type": "code",
   "execution_count": 25,
   "metadata": {},
   "outputs": [
    {
     "ename": "AttributeError",
     "evalue": "'module' object has no attribute 'global_variables_initializer'",
     "output_type": "error",
     "traceback": [
      "\u001b[0;31m---------------------------------------------------------------------------\u001b[0m",
      "\u001b[0;31mAttributeError\u001b[0m                            Traceback (most recent call last)",
      "\u001b[0;32m<ipython-input-25-87d84baf881a>\u001b[0m in \u001b[0;36m<module>\u001b[0;34m()\u001b[0m\n\u001b[1;32m      1\u001b[0m \u001b[0;31m#変数初期化\u001b[0m\u001b[0;34m\u001b[0m\u001b[0;34m\u001b[0m\u001b[0m\n\u001b[1;32m      2\u001b[0m \u001b[0;31m#手法1\u001b[0m\u001b[0;34m\u001b[0m\u001b[0;34m\u001b[0m\u001b[0m\n\u001b[0;32m----> 3\u001b[0;31m \u001b[0minitializer_op\u001b[0m \u001b[0;34m=\u001b[0m \u001b[0mtf\u001b[0m\u001b[0;34m.\u001b[0m\u001b[0mglobal_variables_initializer\u001b[0m\u001b[0;34m(\u001b[0m\u001b[0;34m)\u001b[0m\u001b[0;34m\u001b[0m\u001b[0m\n\u001b[0m\u001b[1;32m      4\u001b[0m \u001b[0;34m\u001b[0m\u001b[0m\n\u001b[1;32m      5\u001b[0m \u001b[0;31m#手法2\u001b[0m\u001b[0;34m\u001b[0m\u001b[0;34m\u001b[0m\u001b[0m\n",
      "\u001b[0;31mAttributeError\u001b[0m: 'module' object has no attribute 'global_variables_initializer'"
     ]
    }
   ],
   "source": [
    "#変数初期化\n",
    "#手法1\n",
    "initializer_op = tf.global_variables_initializer()\n",
    "\n",
    "#手法2\n",
    "sess = tf.Session()\n",
    "first_var = tf.Variable(tf.zeros([4,5]))\n",
    "sess.run(first_var.initializer)\n",
    "second_var = tf.Variable(tf.zeros_like(first_var))\n",
    "\n",
    "sess.run(second_var.initializer)"
   ]
  },
  {
   "cell_type": "code",
   "execution_count": 26,
   "metadata": {},
   "outputs": [
    {
     "name": "stdout",
     "output_type": "stream",
     "text": [
      "id_matrix \n",
      " [[ 1.  0.  0.]\n",
      " [ 0.  1.  0.]\n",
      " [ 0.  0.  1.]]\n",
      "A \n",
      " [[ 0.50013047 -0.43715045  1.03462803]\n",
      " [ 1.05505586 -0.15213114  0.42632279]\n",
      " [ 0.92554921  0.76519942  0.96730989]]\n",
      "B \n",
      " [[7 7 7 7]\n",
      " [7 7 7 7]\n",
      " [7 7 7 7]]\n",
      "C \n",
      " [[ 0.49207175  0.08954132  0.77718699]\n",
      " [ 0.51937878  0.07848096  0.3202256 ]\n",
      " [ 0.83184958  0.48557889  0.23328674]]\n",
      "D \n",
      " [[1 2 3]\n",
      " [4 5 6]\n",
      " [7 8 9]]\n",
      "A+C =\n",
      " [[ 1.09103346 -1.13590562  0.53409755]\n",
      " [-0.94630671  0.99397731  0.16922611]\n",
      " [-0.09946275 -0.57662952  0.95547724]]\n",
      "C-A =\n",
      " [[ 0.18466556 -0.05239904  1.82512426]\n",
      " [ 0.85957718  0.31310731  0.59234285]\n",
      " [ 0.35404271  0.29028708  1.72123659]]\n",
      "D^t [[1 4 7]\n",
      " [2 5 8]\n",
      " [3 6 9]]\n",
      "Cの行列式 \n",
      " 0.00717992\n",
      "C inv \n",
      " [[  0.92613322 -18.00481415  13.72391033]\n",
      " [ -0.34526515   4.4872117   -2.17374921]\n",
      " [  2.70120168  -0.31350413  -1.7680006 ]]\n",
      "id_matrix コレスキー \n",
      " [[ 1.  0.  0.]\n",
      " [ 0.  1.  0.]\n",
      " [ 0.  0.  1.]]\n"
     ]
    }
   ],
   "source": [
    "#行列操作\n",
    "id_matrix = tf.diag([1.0,1.0,1.0])\n",
    "print(\"id_matrix \\n\", sess.run(id_matrix))\n",
    "\n",
    "A = tf.truncated_normal([3,3]) #正規分布\n",
    "B = tf.fill([3,4], 7) #指定した値のみの行列\n",
    "C = tf.random_uniform([3,3]) #一様分布\n",
    "D = tf.convert_to_tensor(np.array([[1,2,3],[4,5,6],[7,8,9]])) #入力した行列をテンソルに変換\n",
    "\n",
    "print(\"A \\n\", sess.run(A)) #ランダム値はsess.runする時に値が決まる\n",
    "print(\"B \\n\", sess.run(B))\n",
    "print(\"C \\n\", sess.run(C))\n",
    "print(\"D \\n\", sess.run(D))\n",
    "\n",
    "#加減\n",
    "print(\"A+C =\\n\", sess.run(A+C))\n",
    "print(\"C-A =\\n\",sess.run(C-A))\n",
    "\n",
    "#転置\n",
    "print(\"D^t\", sess.run(tf.transpose(D)))\n",
    "\n",
    "#行列式(要素が整数ではダメっぽい)\n",
    "print(\"Cの行列式 \\n\", sess.run(tf.matrix_determinant(C)))\n",
    "\n",
    "#逆行列(中身が少数である必要有)\n",
    "print(\"C inv \\n\",sess.run(tf.matrix_inverse(C)))\n",
    "\n",
    "#コレスキー分解(正定値対称行列である必要有)\n",
    "print(\"id_matrix コレスキー \\n\",sess.run(tf.cholesky(id_matrix))) #たぶん コレスキー分解, id_matrix = L L^t の Lが求まる\n",
    "\n",
    "#固有値、固有ベクトル\n",
    "#evalue, evector = sess.run(tf.self_adjoint_eig(C))\n",
    "#print(\"\\n Cの固有値 \\n\", evalue)\n",
    "#print(\"\\n Cの固有ベクトル\\n\", evector)"
   ]
  },
  {
   "cell_type": "markdown",
   "metadata": {},
   "source": [
    "## 1. データセットを作成(インポート)"
   ]
  },
  {
   "cell_type": "code",
   "execution_count": 27,
   "metadata": {},
   "outputs": [
    {
     "name": "stdout",
     "output_type": "stream",
     "text": [
      "elements in digits \n",
      " ['DESCR', 'data', 'images', 'target', 'target_names']\n",
      "\n",
      " digits.data \n",
      " (1797, 64)\n",
      "\n",
      "digits.images \n",
      " (1797, 8, 8)\n",
      "\n",
      "digits.target(label) \n",
      " (1797,)\n",
      "\n",
      "digits.target_names(kind of label) \n",
      " (10,)\n",
      "Extracting MNIST_data/train-images-idx3-ubyte.gz\n",
      "Extracting MNIST_data/train-labels-idx1-ubyte.gz\n",
      "Extracting MNIST_data/t10k-images-idx3-ubyte.gz\n",
      "Extracting MNIST_data/t10k-labels-idx1-ubyte.gz\n"
     ]
    }
   ],
   "source": [
    "from sklearn.datasets import load_digits\n",
    "digits = load_digits(n_class=10)\n",
    "print(\"elements in digits \\n\", dir(digits))\n",
    "\n",
    "data = digits.data\n",
    "print(\"\\n digits.data \\n\", data.shape)\n",
    "\n",
    "images = digits.images\n",
    "print(\"\\ndigits.images \\n\", images.shape)\n",
    "target = digits.target\n",
    "print(\"\\ndigits.target(label) \\n\", target.shape)\n",
    "target_names = digits.target_names\n",
    "print(\"\\ndigits.target_names(kind of label) \\n\", target_names.shape)\n",
    "\n",
    "\n",
    "#今回はこっちを使う\n",
    "from tensorflow.examples.tutorials.mnist import input_data\n",
    "mnist = input_data.read_data_sets(\"MNIST_data/\", one_hot=True)\n"
   ]
  },
  {
   "cell_type": "markdown",
   "metadata": {},
   "source": [
    "## 1.1\n",
    "### データセット\n",
    "### 28×28=784の画像サイズのデータ 55000枚\n",
    "\n",
    "### ラベル\n",
    "### ex. 正解が3なら [0,0,0,1,0,0,0,0,0,0]"
   ]
  },
  {
   "cell_type": "code",
   "execution_count": 28,
   "metadata": {},
   "outputs": [
    {
     "data": {
      "text/plain": [
       "(55000, 10)"
      ]
     },
     "execution_count": 28,
     "metadata": {},
     "output_type": "execute_result"
    }
   ],
   "source": [
    "mnist.train.labels.shape"
   ]
  },
  {
   "cell_type": "code",
   "execution_count": 29,
   "metadata": {},
   "outputs": [
    {
     "data": {
      "text/plain": [
       "(55000, 784)"
      ]
     },
     "execution_count": 29,
     "metadata": {},
     "output_type": "execute_result"
    }
   ],
   "source": [
    "mnist.train.images.shape"
   ]
  },
  {
   "cell_type": "code",
   "execution_count": 30,
   "metadata": {},
   "outputs": [
    {
     "data": {
      "text/plain": [
       "numpy.ndarray"
      ]
     },
     "execution_count": 30,
     "metadata": {},
     "output_type": "execute_result"
    }
   ],
   "source": [
    "type(mnist.train.images)"
   ]
  },
  {
   "cell_type": "code",
   "execution_count": 32,
   "metadata": {
    "collapsed": true
   },
   "outputs": [],
   "source": [
    "#画像データを入れる箱\n",
    "#x = tf.placeholder(tf.float32, [None, 784])\n",
    "x = tf.placeholder(\"float32\", [None, 784])"
   ]
  },
  {
   "cell_type": "code",
   "execution_count": 33,
   "metadata": {
    "collapsed": true
   },
   "outputs": [],
   "source": [
    "#重みとバイアスを設定\n",
    "W = tf.Variable(tf.zeros([784,10]))\n",
    "b = tf.Variable(tf.zeros([10]))\n",
    "\n",
    "#0〜1に値を正規化\n",
    "y = tf.nn.softmax(tf.matmul(x,W) + b) #出力値\n",
    "\n",
    "#ネットワークで最小化すべき誤差関数としてクロスエントロピーを定義(正解データを用いる)\n",
    "y_ = tf.placeholder(tf.float32, [None, 10]) #正解データ\n",
    "cross_entropy = tf.reduce_mean(-tf.reduce_sum(y_ * tf.log(y), reduction_indices=[1]))\n"
   ]
  },
  {
   "cell_type": "code",
   "execution_count": 34,
   "metadata": {
    "collapsed": true
   },
   "outputs": [],
   "source": [
    "#学習方法定義　0.5は学習率\n",
    "train_step = tf.train.GradientDescentOptimizer(0.5).minimize(cross_entropy)"
   ]
  },
  {
   "cell_type": "code",
   "execution_count": 35,
   "metadata": {
    "collapsed": true
   },
   "outputs": [],
   "source": [
    "sess = tf.InteractiveSession()"
   ]
  },
  {
   "cell_type": "code",
   "execution_count": 36,
   "metadata": {
    "collapsed": true
   },
   "outputs": [],
   "source": [
    "tf.initialize_all_variables().run()"
   ]
  },
  {
   "cell_type": "code",
   "execution_count": 37,
   "metadata": {
    "collapsed": true
   },
   "outputs": [],
   "source": [
    "#学習\n",
    "for _ in range(1000):\n",
    "  batch_xs, batch_ys = mnist.train.next_batch(100)\n",
    "  sess.run(train_step, feed_dict={x: batch_xs, y_: batch_ys})"
   ]
  },
  {
   "cell_type": "markdown",
   "metadata": {},
   "source": [
    "## 3. モデル評価"
   ]
  },
  {
   "cell_type": "code",
   "execution_count": 38,
   "metadata": {
    "collapsed": true
   },
   "outputs": [],
   "source": [
    "correct_prediction = tf.equal(tf.argmax(y,1), tf.argmax(y_,1))"
   ]
  },
  {
   "cell_type": "code",
   "execution_count": 39,
   "metadata": {
    "collapsed": true
   },
   "outputs": [],
   "source": [
    "accuracy = tf.reduce_mean(tf.cast(correct_prediction, tf.float32))"
   ]
  },
  {
   "cell_type": "code",
   "execution_count": 40,
   "metadata": {},
   "outputs": [
    {
     "data": {
      "text/plain": [
       "<tf.Tensor 'Mean_3:0' shape=() dtype=float32>"
      ]
     },
     "execution_count": 40,
     "metadata": {},
     "output_type": "execute_result"
    }
   ],
   "source": [
    "accuracy"
   ]
  },
  {
   "cell_type": "code",
   "execution_count": 41,
   "metadata": {},
   "outputs": [
    {
     "name": "stdout",
     "output_type": "stream",
     "text": [
      "0.9175\n"
     ]
    }
   ],
   "source": [
    "print(sess.run(accuracy, feed_dict={x: mnist.test.images, y_: mnist.test.labels}))"
   ]
  },
  {
   "cell_type": "markdown",
   "metadata": {},
   "source": [
    "# 4. 可視化"
   ]
  },
  {
   "cell_type": "code",
   "execution_count": null,
   "metadata": {
    "collapsed": true
   },
   "outputs": [],
   "source": [
    "a = tf.equal([1,1,2],[1,1,3])"
   ]
  },
  {
   "cell_type": "code",
   "execution_count": null,
   "metadata": {},
   "outputs": [],
   "source": [
    "dir(accuracy)"
   ]
  },
  {
   "cell_type": "code",
   "execution_count": null,
   "metadata": {},
   "outputs": [],
   "source": [
    "a.value_index"
   ]
  },
  {
   "cell_type": "code",
   "execution_count": 32,
   "metadata": {},
   "outputs": [
    {
     "data": {
      "text/plain": [
       "<bound method Tensor.consumers of <tf.Tensor 'Equal_4:0' shape=(3,) dtype=bool>>"
      ]
     },
     "execution_count": 32,
     "metadata": {},
     "output_type": "execute_result"
    }
   ],
   "source": [
    "a.consumers"
   ]
  },
  {
   "cell_type": "code",
   "execution_count": 33,
   "metadata": {},
   "outputs": [
    {
     "data": {
      "text/plain": [
       "array([ True,  True, False], dtype=bool)"
      ]
     },
     "execution_count": 33,
     "metadata": {},
     "output_type": "execute_result"
    }
   ],
   "source": [
    "sess.run(a)"
   ]
  },
  {
   "cell_type": "code",
   "execution_count": null,
   "metadata": {
    "collapsed": true
   },
   "outputs": [],
   "source": []
  }
 ],
 "metadata": {
  "kernelspec": {
   "display_name": "py34",
   "language": "python",
   "name": "py34"
  }
 },
 "nbformat": 4,
 "nbformat_minor": 2
}
